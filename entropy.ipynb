{
 "cells": [
  {
   "cell_type": "code",
   "execution_count": 2,
   "metadata": {},
   "outputs": [],
   "source": [
    "import numpy as np\n",
    "import matplotlib.pyplot as plt\n",
    "import pandas as pd"
   ]
  },
  {
   "cell_type": "markdown",
   "metadata": {},
   "source": [
    "$X = 1$ con probabilidad $p$ y $X = 0$ con probabilidad $1-p$.\n",
    "\n",
    "Luego,\n",
    "$$\n",
    "\\begin{align}\n",
    "H(X) &= -p \\log(p) - (1-p) \\log(1-p) \\\\\n",
    "\\end{align}\n",
    "$$\n"
   ]
  },
  {
   "cell_type": "code",
   "execution_count": 3,
   "metadata": {},
   "outputs": [
    {
     "data": {
      "image/png": "[encoded data removed]",
      "text/plain": [
       "<Figure size 640x480 with 1 Axes>"
      ]
     },
     "metadata": {},
     "output_type": "display_data"
    }
   ],
   "source": [
    "def entropy(p: float):\n",
    "    return -p * np.log2(p) - (1 - p) * np.log2(1 - p)\n",
    "\n",
    "p = np.linspace(0.01, 0.99, 100)\n",
    "plt.plot(p, entropy(p))\n",
    "plt.title('$H(p) vs p$')\n",
    "plt.xlabel('$p$')\n",
    "plt.ylabel('Entropy $H(p)$')\n",
    "plt.show()\n"
   ]
  },
  {
   "cell_type": "code",
   "execution_count": 4,
   "metadata": {},
   "outputs": [],
   "source": [
    "# Se lee el archivo CSV\n",
    "data = pd.read_csv('DatasetHojas.csv', sep=',', header=0)\n",
    "data_clase1 = data[data['Clase'] == 1]\n",
    "data_clase2 = data[data['Clase'] == 2]\n",
    "\n",
    "# Se separan los datos de cada clase en sus respectivas variables\n",
    "altura_clase1 = data_clase1['Largo']\n",
    "ancho_clase1 = data_clase1['Ancho']\n",
    "altura_clase2 = data_clase2['Largo']\n",
    "ancho_clase2 = data_clase2['Ancho']\n",
    "\n"
   ]
  },
  {
   "cell_type": "markdown",
   "metadata": {},
   "source": [
    "### Entropía conjunta \n",
    "$$ H(X,Y) = - \\sum_{x} \\sum_{y} \\ p(x,y) \\log p(x,y) $$\n"
   ]
  },
  {
   "cell_type": "code",
   "execution_count": 5,
   "metadata": {},
   "outputs": [
    {
     "name": "stdout",
     "output_type": "stream",
     "text": [
      "Entropía conjunta clase 1: 3.0321465454645993\n"
     ]
    }
   ],
   "source": [
    "# Histograma de la clase 1 usando plt\n",
    "\n",
    "# plt.hist2d(altura_clase1, ancho_clase1, bins=5, cmap='Blues')\n",
    "# plt.colorbar(label='Cantidad de datos')\n",
    "# plt.title('Clase 1')\n",
    "# plt.xlabel('Largo')\n",
    "# plt.ylabel('Ancho')\n",
    "# plt.show()\n",
    "\n",
    "\n",
    "# Histograma de la clase 1 usando numpy\n",
    "hist, _, _ = np.histogram2d(altura_clase1, ancho_clase1, bins=5)\n",
    "# print(hist)\n",
    "\n",
    "# Se calcula la probabilidad que hay en cada bin\n",
    "joint_prob = hist / np.sum(hist)\n",
    "# print(prob)\n",
    "\n",
    "def joint_entropy(prob: np.ndarray) -> float:\n",
    "    \"\"\" Calcula la entropía conjunta de una matriz de probabilidades \"\"\"\n",
    "    H = 0\n",
    "    for i in range(prob.shape[0]):\n",
    "        for j in range(prob.shape[1]):\n",
    "            if prob[i][j] != 0:\n",
    "                H += prob[i][j] * np.log2(prob[i][j])\n",
    "    return -H\n",
    "\n",
    "print('Entropía conjunta clase 1:',joint_entropy(joint_prob))"
   ]
  },
  {
   "cell_type": "markdown",
   "metadata": {},
   "source": [
    "### Entropía condicional\n",
    "$$\n",
    "\\begin{align}\n",
    "H(Y|X) &= \\sum_{x} \\ p(x) H(Y|X = x) \\\\\n",
    "&= - \\sum_{x} \\ p(x) \\sum_{y} \\ p(y|x) \\log p(y|x) \\\\\n",
    "&= - \\sum_{x} \\sum_{y} \\ p(x,y) \\log p(y|x) \\\\\n",
    "\\end{align}\n",
    "$$"
   ]
  },
  {
   "cell_type": "code",
   "execution_count": 6,
   "metadata": {},
   "outputs": [
    {
     "name": "stdout",
     "output_type": "stream",
     "text": [
      "Entropía condicional clase 1: 1.3115433811024402\n"
     ]
    }
   ],
   "source": [
    "def conditional_distribution(joint_probability: np.ndarray)-> np.ndarray:\n",
    "    \"\"\" Calcula la probabilidad condicional dada la probabilidad conjunta \"\"\"\n",
    "    conditional_prob = np.zeros(joint_probability.shape)\n",
    "    for i in range(joint_probability.shape[0]):\n",
    "        for j in range(joint_probability.shape[1]):\n",
    "            conditional_prob[i][j] = joint_probability[i][j] / np.sum(joint_probability[i])\n",
    "    return conditional_prob\n",
    "\n",
    "conditional_prob_clase1 = conditional_distribution(joint_prob)\n",
    "\n",
    "def conditional_entropy(conditional_prob: np.ndarray, joint_prob: np.ndarray) -> float:\n",
    "    \"\"\" Calcula la entropía condicional de una matriz de probabilidades \"\"\"\n",
    "    H = 0\n",
    "    for i in range(conditional_prob.shape[0]):\n",
    "        for j in range(conditional_prob.shape[1]):\n",
    "            if conditional_prob[i][j] != 0:\n",
    "                H += joint_prob[i][j] * np.log2(conditional_prob[i][j])\n",
    "    return -H\n",
    "\n",
    "print('Entropía condicional clase 1:',conditional_entropy(conditional_prob_clase1, joint_prob))\n",
    "\n"
   ]
  },
  {
   "cell_type": "markdown",
   "metadata": {},
   "source": [
    "##### Por regla de la cadena la entropía condicional también se puede escribir como: \n",
    "$$ H(X,Y) = H(X) + H(Y|X) $$"
   ]
  },
  {
   "cell_type": "code",
   "execution_count": 7,
   "metadata": {},
   "outputs": [
    {
     "name": "stdout",
     "output_type": "stream",
     "text": [
      "Entropía conjunta clase 1: 3.0321465454645993\n",
      "Corroboración: 3.032146545464599\n"
     ]
    }
   ],
   "source": [
    "print('Entropía conjunta clase 1:',joint_entropy(joint_prob))\n",
    "\n",
    "# Marginal altura clase 1 a partir del histograma\n",
    "marginal_altura_clase1 = np.sum(joint_prob, axis=1)\n",
    "H_X = 0\n",
    "for i in range(marginal_altura_clase1.shape[0]):\n",
    "    if marginal_altura_clase1[i] != 0:\n",
    "        H_X += marginal_altura_clase1[i] * np.log2(marginal_altura_clase1[i])\n",
    "H_X = -H_X  #cambio de signo por el menos de la fórmula\n",
    "\n",
    "\n",
    "print(\"Corroboración:\" , H_X + conditional_entropy(conditional_prob_clase1, joint_prob))"
   ]
  },
  {
   "cell_type": "markdown",
   "metadata": {},
   "source": [
    "#### Entropía relativa e información mutua"
   ]
  },
  {
   "cell_type": "code",
   "execution_count": 8,
   "metadata": {},
   "outputs": [],
   "source": [
    "def relative_entropy(P: np.ndarray, Q: np.ndarray) -> float:\n",
    "    D = 0\n",
    "    for p in range(P.shape[0]):\n",
    "        for q in range(Q.shape[1]):\n",
    "            if P[p][q] != 0:\n",
    "                D += P[p][q] * np.log2(P[p][q] / Q[p][q])\n",
    "    return D"
   ]
  },
  {
   "cell_type": "code",
   "execution_count": 9,
   "metadata": {},
   "outputs": [
    {
     "name": "stdout",
     "output_type": "stream",
     "text": [
      "Información mutua clase 1: 0.5300115307683494\n",
      "Información mutua anchos: 0.0796008638042334\n"
     ]
    }
   ],
   "source": [
    "def mutual_information(X: np.ndarray, Y: np.ndarray, marg_prob_X, marg_prob_Y, joint_prob) -> float:\n",
    "    I = 0\n",
    "    for x in range(marg_prob_X.shape[0]):\n",
    "        for y in range(marg_prob_Y.shape[0]):\n",
    "            if joint_prob[x][y] != 0:\n",
    "                I += joint_prob[x][y] * np.log2(joint_prob[x][y] / (marg_prob_X[x] * marg_prob_Y[y]))\n",
    "    return I\n",
    "\n",
    "hist_clase1, _, _ = np.histogram2d(altura_clase1, ancho_clase1, bins=5)\n",
    "joint_prob_clase1 = hist_clase1 / np.sum(hist_clase1)\n",
    "\n",
    "marginal_altura_clase1 = np.sum(joint_prob_clase1, axis=1)\n",
    "marginal_ancho_clase1 = np.sum(joint_prob_clase1, axis=0)\n",
    "\n",
    "print('Información mutua clase 1:',mutual_information(altura_clase1, ancho_clase1, marginal_altura_clase1, marginal_ancho_clase1, joint_prob_clase1))\n",
    "\n",
    "\n",
    "# Lo mismo para ancho1 y ancho2\n",
    "ancho1 = np.array(ancho_clase1)[:ancho_clase2.shape[0]]\n",
    "ancho2 = ancho_clase2\n",
    "\n",
    "hist_anchos, _, _ = np.histogram2d(ancho1, ancho2, bins=5)\n",
    "joint_prob_anchos = hist_anchos / np.sum(hist_anchos)\n",
    "\n",
    "marginal_ancho1 = np.sum(joint_prob_anchos, axis=1)\n",
    "marginal_ancho2 = np.sum(joint_prob_anchos, axis=0)\n",
    "\n",
    "print('Información mutua anchos:',mutual_information(ancho1, ancho2, marginal_ancho1, marginal_ancho2, joint_prob_anchos))\n"
   ]
  },
  {
   "cell_type": "markdown",
   "metadata": {},
   "source": [
    "Medir H(ancho 1 y ancho 2) \n",
    "\n",
    "H (largo 1 y ancho 2) \n",
    "\n",
    "H (A1 | L1) \n",
    "\n",
    "H (A2 | L2) \n",
    "\n",
    "H (A1 | A2) \n",
    "\n",
    "H (L1 | L2) \n",
    "\n",
    "Tabla columna A1, columna A2, fila L1, fila L2 \n",
    "\n",
    "Medir I(A,L) = H(A) - H(A|L) \n",
    "\n",
    "D(C1 || C2) -> la conjunta "
   ]
  },
  {
   "cell_type": "markdown",
   "metadata": {},
   "source": [
    "##### Se generan muestras de una Uniforme [0,1] y hacemos su histograma\n",
    "\n",
    "##### A esas muestras de esas uniformes le aplico -log2 que es una función convexa, hacemos su histograma y los comparamos.\n",
    "\n",
    "##### Luego comprobamos la desigualdad de Jensen"
   ]
  },
  {
   "cell_type": "code",
   "execution_count": 19,
   "metadata": {},
   "outputs": [
    {
     "data": {
      "image/png": "[encoded data removed]",
      "text/plain": [
       "<Figure size 640x480 with 1 Axes>"
      ]
     },
     "metadata": {},
     "output_type": "display_data"
    },
    {
     "data": {
      "image/png": "[encoded data removed]",
      "text/plain": [
       "<Figure size 640x480 with 1 Axes>"
      ]
     },
     "metadata": {},
     "output_type": "display_data"
    },
    {
     "name": "stdout",
     "output_type": "stream",
     "text": [
      "f(E[X])= 0.9404649009520382\n",
      "E[f(X)]= 1.3434703640214216\n"
     ]
    }
   ],
   "source": [
    "# generar muestras de uniforme 0 a 1\n",
    "x = np.random.uniform(0, 1, 1000)\n",
    "# Histograma\n",
    "plt.hist(x, bins=10, density=True, color='blue', edgecolor='black', linewidth=1.2)\n",
    "plt.title('Histograma de uniforme')\n",
    "plt.xlabel('x')\n",
    "plt.ylabel('Densidad')\n",
    "plt.show()\n",
    "\n",
    "# Por cada muestra le aplica -np.log2(x) y hago histograma\n",
    "y = -np.log2(x)\n",
    "plt.hist(y, bins=10, density=True, color='blue', edgecolor='black', linewidth=1.2)\n",
    "plt.title('Histograma de -log2(x)')\n",
    "plt.xlabel('y')\n",
    "plt.ylabel('Densidad')\n",
    "plt.show()\n",
    "\n",
    "print(\"f(E[X]) = \", -np.log2(np.mean(x)))\n",
    "print(\"E[f(X)] = \", np.mean(y))\n"
   ]
  },
  {
   "cell_type": "markdown",
   "metadata": {},
   "source": [
    "##### Desigualdad de información\n",
    "\n",
    "$$ D(p||q) \\geq 0 $$"
   ]
  }
 ],
 "metadata": {
  "kernelspec": {
   "display_name": "Python 3",
   "language": "python",
   "name": "python3"
  },
  "language_info": {
   "codemirror_mode": {
    "name": "ipython",
    "version": 3
   },
   "file_extension": ".py",
   "mimetype": "text/x-python",
   "name": "python",
   "nbconvert_exporter": "python",
   "pygments_lexer": "ipython3",
   "version": "3.11.0"
  }
 },
 "nbformat": 4,
 "nbformat_minor": 2
}
